{
  "nbformat": 4,
  "nbformat_minor": 0,
  "metadata": {
    "colab": {
      "provenance": [],
      "authorship_tag": "ABX9TyN/2An6qlR6Vd+jBxPdw0CF",
      "include_colab_link": true
    },
    "kernelspec": {
      "name": "python3",
      "display_name": "Python 3"
    },
    "language_info": {
      "name": "python"
    }
  },
  "cells": [
    {
      "cell_type": "markdown",
      "metadata": {
        "id": "view-in-github",
        "colab_type": "text"
      },
      "source": [
        "<a href=\"https://colab.research.google.com/github/hyeonbinsong/firstcode/blob/main/CT2nd_code.ipynb\" target=\"_parent\"><img src=\"https://colab.research.google.com/assets/colab-badge.svg\" alt=\"Open In Colab\"/></a>"
      ]
    },
    {
      "cell_type": "code",
      "execution_count": null,
      "metadata": {
        "colab": {
          "base_uri": "https://localhost:8080/"
        },
        "id": "iT7aStOWGjxM",
        "outputId": "a00f7ae6-82f1-44fa-d818-b41b351458fd"
      },
      "outputs": [
        {
          "output_type": "stream",
          "name": "stdout",
          "text": [
            "N1의 값을 입력하시오.:40\n",
            "N2의 값을 입력하시오.:50\n",
            "N3의 값을 입력하시오.:60\n",
            "50.0\n"
          ]
        }
      ],
      "source": [
        "n1 = int(input(\"N1의 값을 입력하시오.:\"))          # 사용자로부터 3개의 값을 입력받기\n",
        "n2 = int(input(\"N2의 값을 입력하시오.:\"))\n",
        "n3 = int(input(\"N3의 값을 입력하시오.:\"))\n",
        "total = n1 + n2 + n3          # 합 구하기\n",
        "average = total / 3          # 평균 구하기\n",
        "print(average)          # 평균 출력하기"
      ]
    }
  ]
}